{
 "cells": [
  {
   "cell_type": "code",
   "execution_count": 1,
   "id": "4810b888",
   "metadata": {},
   "outputs": [
    {
     "name": "stdout",
     "output_type": "stream",
     "text": [
      "hello\n"
     ]
    }
   ],
   "source": [
    "print(\"hello\")"
   ]
  },
  {
   "cell_type": "code",
   "execution_count": 12,
   "id": "ad74e7e4",
   "metadata": {},
   "outputs": [
    {
     "name": "stdout",
     "output_type": "stream",
     "text": [
      "10\n"
     ]
    }
   ],
   "source": [
    "print(rect.length)"
   ]
  },
  {
   "cell_type": "code",
   "execution_count": 6,
   "id": "0e5d5908",
   "metadata": {},
   "outputs": [
    {
     "name": "stdout",
     "output_type": "stream",
     "text": [
      "1\n",
      "2\n",
      "3\n",
      "5\n",
      "7\n",
      "11\n",
      "13\n",
      "17\n",
      "19\n"
     ]
    }
   ],
   "source": [
    "for n in range(1,20):\n",
    "    flag = True\n",
    "    for i in range(2,n):\n",
    "        if n%i==0:\n",
    "            flag = False\n",
    "            break\n",
    "    if flag:\n",
    "        print(n)\n",
    "\n"
   ]
  },
  {
   "cell_type": "code",
   "execution_count": 5,
   "id": "8ff2066d",
   "metadata": {},
   "outputs": [
    {
     "name": "stdout",
     "output_type": "stream",
     "text": [
      "worldcup is not played in  2020\n"
     ]
    }
   ],
   "source": [
    "world_cup={2019:[\"england\",\"new zealand\",20],2015:[\"australia\",\"New zealand\"],2011:['india','srilanka']} \n",
    "year= int(input(\"enter year to check Newzealand team made it final in this year\"))\n",
    "if year in world_cup:\n",
    "    if \"new zealand\" in world_cup[year]:\n",
    "        print(\"New zealand made it final in\",year)\n",
    "    else:\n",
    "        print(\"New zealand could not made it final in\",year)\n",
    "else:\n",
    "    print(\"worldcup is not played in \",year)"
   ]
  },
  {
   "cell_type": "code",
   "execution_count": 9,
   "id": "9b07ace1",
   "metadata": {},
   "outputs": [
    {
     "name": "stdout",
     "output_type": "stream",
     "text": [
      "password is correct.\n"
     ]
    }
   ],
   "source": [
    "#password checker \n",
    "import sys\n",
    "attempt=1\n",
    "password=input(\"enter your password\")\n",
    "while password !='1234':\n",
    "    if attempt >=3:\n",
    "        sys.exit(\"to many invalid attempt\")\n",
    "    password=input(\"invalid password please try again\")\n",
    "    attempt += 1\n",
    "print(\"password is correct.\")"
   ]
  },
  {
   "cell_type": "code",
   "execution_count": 1,
   "id": "06b988a1",
   "metadata": {},
   "outputs": [
    {
     "data": {
      "text/plain": [
       "['data', 23, ['python', 'java'], 6]"
      ]
     },
     "execution_count": 1,
     "metadata": {},
     "output_type": "execute_result"
    }
   ],
   "source": [
    "##list in python \n",
    "l=['data',23,['python','java'],6]\n",
    "l"
   ]
  },
  {
   "cell_type": "code",
   "execution_count": null,
   "id": "8088f316",
   "metadata": {},
   "outputs": [
    {
     "data": {
      "text/plain": [
       "'java'"
      ]
     },
     "execution_count": 3,
     "metadata": {},
     "output_type": "execute_result"
    }
   ],
   "source": [
    "\n",
    "l[-2][-1]"
   ]
  },
  {
   "cell_type": "code",
   "execution_count": 4,
   "id": "c370d699",
   "metadata": {},
   "outputs": [
    {
     "name": "stdout",
     "output_type": "stream",
     "text": [
      "1\n",
      "2\n",
      "3\n",
      "5\n",
      "7\n",
      "11\n",
      "13\n",
      "17\n",
      "19\n"
     ]
    }
   ],
   "source": [
    "for n in range(1,20):\n",
    "    flag=True\n",
    "    for i in range(2,n):\n",
    "        if n%i==0:\n",
    "            flag=False\n",
    "            break\n",
    "    if flag:\n",
    "        print(n)\n",
    "        "
   ]
  },
  {
   "cell_type": "code",
   "execution_count": 5,
   "id": "d4841e20",
   "metadata": {},
   "outputs": [
    {
     "data": {
      "text/plain": [
       "{'a', 'i'}"
      ]
     },
     "execution_count": 5,
     "metadata": {},
     "output_type": "execute_result"
    }
   ],
   "source": [
    "word= input(\"Enter a word\")\n",
    "vowel={i for i in word if i in\"aeiouAEIOU\"}\n",
    "vowel"
   ]
  },
  {
   "cell_type": "code",
   "execution_count": 7,
   "id": "18204766",
   "metadata": {},
   "outputs": [],
   "source": [
    "def factorial(n):\n",
    "    fact=1\n",
    "    for i in range(1,n+1):\n",
    "        fact*=i\n",
    "    return fact"
   ]
  },
  {
   "cell_type": "code",
   "execution_count": 9,
   "id": "bcc56748",
   "metadata": {},
   "outputs": [
    {
     "data": {
      "text/plain": [
       "120"
      ]
     },
     "execution_count": 9,
     "metadata": {},
     "output_type": "execute_result"
    }
   ],
   "source": [
    "factorial(5)"
   ]
  },
  {
   "cell_type": "code",
   "execution_count": 12,
   "id": "26748d7b",
   "metadata": {},
   "outputs": [
    {
     "data": {
      "text/plain": [
       "'odd'"
      ]
     },
     "execution_count": 12,
     "metadata": {},
     "output_type": "execute_result"
    }
   ],
   "source": [
    "f= lambda x:\"even\" if x%2==0 else'odd'\n",
    "f(3)"
   ]
  },
  {
   "cell_type": "code",
   "execution_count": 15,
   "id": "9cb38817",
   "metadata": {},
   "outputs": [
    {
     "name": "stdout",
     "output_type": "stream",
     "text": [
      "radius =5\tpi=3.14\n"
     ]
    }
   ],
   "source": [
    "class circle:\n",
    "    pi = 3.14\n",
    "    def __init__(self,radius):\n",
    "        self.radius=radius\n",
    "circle_1=circle(5)\n",
    "print(\"radius ={}\\tpi={}\".format(circle_1.radius,circle_1.pi))"
   ]
  },
  {
   "cell_type": "code",
   "execution_count": 16,
   "id": "e11094a7",
   "metadata": {},
   "outputs": [
    {
     "name": "stdout",
     "output_type": "stream",
     "text": [
      "radius =5\tpi=3.146\n"
     ]
    }
   ],
   "source": [
    "circle.pi = 3.146\n",
    "circle_1=circle(5)\n",
    "print(\"radius ={}\\tpi={}\".format(circle_1.radius,circle_1.pi))"
   ]
  },
  {
   "cell_type": "code",
   "execution_count": 22,
   "id": "18745ba8",
   "metadata": {},
   "outputs": [
    {
     "name": "stdout",
     "output_type": "stream",
     "text": [
      "length = 5 \n",
      "breadth= 10 \n",
      "area= 50\n"
     ]
    }
   ],
   "source": [
    "class Rectangle:\n",
    "    def __init__(self,length,breadth):\n",
    "        self.length=length\n",
    "        self.breadth=breadth\n",
    "    def calc_area(self):\n",
    "        return self.length*self.breadth\n",
    "    \n",
    "\n",
    "rect = Rectangle(5,10)\n",
    "print(\"length =\",rect.length,\"\\nbreadth=\",rect.breadth,\"\\narea=\",rect.calc_area())"
   ]
  }
 ],
 "metadata": {
  "kernelspec": {
   "display_name": "Python 3",
   "language": "python",
   "name": "python3"
  },
  "language_info": {
   "codemirror_mode": {
    "name": "ipython",
    "version": 3
   },
   "file_extension": ".py",
   "mimetype": "text/x-python",
   "name": "python",
   "nbconvert_exporter": "python",
   "pygments_lexer": "ipython3",
   "version": "3.12.5"
  }
 },
 "nbformat": 4,
 "nbformat_minor": 5
}
