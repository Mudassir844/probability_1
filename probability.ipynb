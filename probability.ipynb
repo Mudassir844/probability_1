{
 "cells": [
  {
   "cell_type": "code",
   "execution_count": null,
   "id": "6197d419",
   "metadata": {},
   "outputs": [],
   "source": [
    "import random\n",
    "\n",
    "# Tossing a coin 10,000 times\n",
    "def coin_toss_simulation(trials=10000):\n",
    "    heads = sum(random.choice([\"H\", \"T\"]) == \"H\" for _ in range(trials))\n",
    "    tails = trials - heads\n",
    "    print(f\"Experimental Probability of Heads: {heads/trials:.4f}\")\n",
    "    print(f\"Experimental Probability of Tails: {tails/trials:.4f}\")\n"
   ]
  },
  {
   "cell_type": "markdown",
   "id": "e8eacab6",
   "metadata": {},
   "source": [
    "This simulates flipping a fair coin 10,000 times. Each flip randomly lands on \"H\" or \"T\".\n",
    "By tracking the number of heads vs tails, we estimate the probability of each outcome."
   ]
  },
  {
   "cell_type": "code",
   "execution_count": null,
   "id": "fe20c463",
   "metadata": {},
   "outputs": [],
   "source": [
    "#  Rolling two dice and calculating probability of sum = 7\n",
    "def dice_sum_simulation(trials=10000):\n",
    "    count_7 = sum((random.randint(1, 6) + random.randint(1, 6)) == 7 for _ in range(trials))\n",
    "    print(f\"Probability of Sum = 7: {count_7/trials:.4f}\")"
   ]
  },
  {
   "cell_type": "code",
   "execution_count": null,
   "id": "47c88a96",
   "metadata": {},
   "outputs": [],
   "source": [
    "#Two dice are rolled repeatedly. We count how often their sum equals 7—known for having the highest theoretical probability.\n",
    "#The function estimates how frequently that sum appears."
   ]
  },
  {
   "cell_type": "code",
   "execution_count": 8,
   "id": "87be8ebc",
   "metadata": {},
   "outputs": [],
   "source": [
    "def prob_at_least_one_6(trials=10000):\n",
    "    success = 0\n",
    "    for _ in range(trials):\n",
    "        rolls = [random.randint(1, 6) for _ in range(10)]\n",
    "        if 6 in rolls:\n",
    "            success += 1\n",
    "    print(f\"Probability of at least one '6': {success/trials:.4f}\")"
   ]
  },
  {
   "cell_type": "markdown",
   "id": "e1013ab6",
   "metadata": {},
   "source": [
    "this simulates rolling one die 10 times per trial. If any of those rolls lands on \"6\", it’s a success.\n",
    "The final output tells you how often you’d expect at least one \"6\" in a set of 10 rolls.\n"
   ]
  },
  {
   "cell_type": "code",
   "execution_count": 9,
   "id": "3d6ee871",
   "metadata": {},
   "outputs": [],
   "source": [
    "def conditional_probability_simulation(trials=1000):\n",
    "    colors = ['R'] * 5 + ['G'] * 7 + ['B'] * 8\n",
    "    previous = None\n",
    "    count_blue_then_red = 0\n",
    "    count_prev_blue = 0\n",
    "\n",
    "    for _ in range(trials):\n",
    "        current = random.choice(colors)\n",
    "        if previous == 'B':\n",
    "            count_prev_blue += 1\n",
    "            if current == 'R':\n",
    "                count_blue_then_red += 1\n",
    "        previous = current\n",
    "\n",
    "    prob_red_given_blue = count_blue_then_red / count_prev_blue if count_prev_blue else 0\n",
    "    print(f\"P(R|B) from simulation: {prob_red_given_blue:.4f}\")"
   ]
  },
  {
   "cell_type": "markdown",
   "id": "6bf4da79",
   "metadata": {},
   "source": [
    "This program randomly picks colored balls (red, green, or blue) many times. It checks how often a red ball comes right after a blue one and then tells you the chance of that happening."
   ]
  },
  {
   "cell_type": "code",
   "execution_count": 12,
   "id": "dd2f3f6a",
   "metadata": {},
   "outputs": [],
   "source": [
    "import numpy as np\n",
    "\n",
    "def discrete_random_stats():\n",
    "    values = [1, 2, 3]\n",
    "    probabilities = [0.25, 0.35, 0.4]\n",
    "    sample = np.random.choice(values, size=1000, p=probabilities)\n",
    "    mean = np.mean(sample)\n",
    "    variance = np.var(sample)\n",
    "    std_dev = np.std(sample)\n",
    "    print(f\"Mean: {mean:.4f}, Variance: {variance:.4f}, Std Dev: {std_dev:.4f}\")"
   ]
  },
  {
   "cell_type": "markdown",
   "id": "460f4678",
   "metadata": {},
   "source": [
    "This program randomly picks the numbers 1, 2, or 3 a thousand times.\n",
    "Each number has a different chance of being picked—1 is less likely than 3.\n",
    "After picking all the numbers, it calculates the average of those results.\n",
    "It also checks how much the numbers vary from each other.\n",
    "Then, it finds out how far the numbers usually are from the average.\n",
    "Finally, it prints all these results.\n"
   ]
  },
  {
   "cell_type": "code",
   "execution_count": 13,
   "id": "6e9d20f1",
   "metadata": {},
   "outputs": [],
   "source": [
    "import matplotlib.pyplot as plt\n",
    "import seaborn as sns\n",
    "\n",
    "def exponential_distribution_plot():\n",
    "    data = np.random.exponential(scale=5, size=2000)\n",
    "    sns.histplot(data, kde=True, bins=50, stat=\"density\")\n",
    "    plt.title(\"Exponential Distribution (Mean = 5)\")\n",
    "    plt.xlabel(\"Value\")\n",
    "    plt.ylabel(\"Density\")\n",
    "    plt.show()"
   ]
  },
  {
   "cell_type": "markdown",
   "id": "5d2e6296",
   "metadata": {},
   "source": [
    "This program makes 2000 random numbers where small values are more common, using an average of 5.\n",
    "It then draws a graph to show how these numbers are spread out, with a smooth curve to highlight the pattern.\n",
    "Finally, it displays the graph with labels and a title.\n"
   ]
  },
  {
   "cell_type": "code",
   "execution_count": 14,
   "id": "97016f50",
   "metadata": {},
   "outputs": [],
   "source": [
    "def central_limit_theorem_simulation():\n",
    "    uniform_data = np.random.uniform(0, 1, size=10000)\n",
    "    sample_means = [np.mean(np.random.choice(uniform_data, size=30)) for _ in range(1000)]\n",
    "\n",
    "    # Plot original uniform distribution\n",
    "    plt.figure(figsize=(12, 5))\n",
    "\n",
    "    plt.subplot(1, 2, 1)\n",
    "    sns.histplot(uniform_data, bins=50, stat=\"density\", color='skyblue')\n",
    "    plt.title(\"Original Uniform Distribution\")\n",
    "\n",
    "    # Plot sample means distribution\n",
    "    plt.subplot(1, 2, 2)\n",
    "    sns.histplot(sample_means, bins=50, stat=\"density\", color='salmon')\n",
    "    plt.title(\"Distribution of Sample Means (n=30)\")\n",
    "\n",
    "    plt.tight_layout()\n",
    "    plt.show()"
   ]
  },
  {
   "cell_type": "markdown",
   "id": "bc760b3a",
   "metadata": {},
   "source": [
    "This program starts by making 10,000 random numbers between 0 and 1.\n",
    "Then, it takes small groups of 30 numbers from that set and finds their averages—doing this 1000 times.\n",
    "It shows two graphs: one for the original random numbers, and one for the averages.\n",
    "The second graph looks more like a bell curve, showing how averages tend to follow a normal pattern.\n"
   ]
  }
 ],
 "metadata": {
  "kernelspec": {
   "display_name": "Python 3",
   "language": "python",
   "name": "python3"
  },
  "language_info": {
   "codemirror_mode": {
    "name": "ipython",
    "version": 3
   },
   "file_extension": ".py",
   "mimetype": "text/x-python",
   "name": "python",
   "nbconvert_exporter": "python",
   "pygments_lexer": "ipython3",
   "version": "3.12.5"
  }
 },
 "nbformat": 4,
 "nbformat_minor": 5
}
